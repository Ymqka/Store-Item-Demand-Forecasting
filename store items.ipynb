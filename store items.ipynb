{
 "cells": [
  {
   "cell_type": "code",
   "execution_count": 1,
   "metadata": {},
   "outputs": [],
   "source": [
    "import datetime\n",
    "import pandas as pd\n",
    "from sklearn.model_selection import train_test_split, TimeSeriesSplit\n",
    "from sklearn.linear_model import LinearRegression\n",
    "pd.options.mode.chained_assignment = None"
   ]
  },
  {
   "cell_type": "code",
   "execution_count": 2,
   "metadata": {},
   "outputs": [],
   "source": [
    "test = pd.read_csv('test.csv') # load data\n",
    "train = pd.read_csv('train.csv') # load data"
   ]
  },
  {
   "cell_type": "code",
   "execution_count": 3,
   "metadata": {},
   "outputs": [],
   "source": [
    "df = pd.concat([train,test], sort = False) # merge test and train into one df"
   ]
  },
  {
   "cell_type": "code",
   "execution_count": 4,
   "metadata": {},
   "outputs": [],
   "source": [
    "df['date'] = pd.to_datetime(df['date'],infer_datetime_format=True) # convert string date into datetime\n",
    "df['month'] = df['date'].dt.month # get month \n",
    "df['weekday'] = df['date'].dt.dayofweek # get day of week\n",
    "df['year'] = df['date'].dt.year # get year\n",
    "df['week_of_year']  = df.date.dt.weekofyear # get week number"
   ]
  },
  {
   "cell_type": "code",
   "execution_count": 5,
   "metadata": {},
   "outputs": [],
   "source": [
    "df.set_index(\"date\",inplace=True) # make date index"
   ]
  },
  {
   "cell_type": "code",
   "execution_count": 6,
   "metadata": {},
   "outputs": [],
   "source": [
    "df[\"median-store_item-month\"] = df.groupby(['month',\"item\",\"store\"])[\"sales\"].transform(\"median\")\n",
    "df[\"mean-store_item-week\"] = df.groupby(['week_of_year',\"item\",\"store\"])[\"sales\"].transform(\"mean\")\n",
    "df[\"item-month-sum\"] = df.groupby(['month',\"item\"])[\"sales\"].transform(\"sum\") # total sales of that item  for all stores\n",
    "df[\"store-month-sum\"] = df.groupby(['month',\"store\"])[\"sales\"].transform(\"sum\") # total sales of that store  for all items"
   ]
  },
  {
   "cell_type": "code",
   "execution_count": 7,
   "metadata": {},
   "outputs": [],
   "source": [
    "# get shifted features for grouped data. Note need to sort first! \n",
    "df['store_item_shifted-90'] = df.groupby([\"item\",\"store\"])['sales'].transform(lambda x:x.shift(90)) # sales for that item 90 days = 3 months ago\n",
    "df['store_item_shifted-180'] = df.groupby([\"item\",\"store\"])['sales'].transform(lambda x:x.shift(180)) # sales for that item 180 days = 6 months ago\n",
    "df['store_item_shifted-365'] = df.groupby([\"item\",\"store\"])['sales'].transform(lambda x:x.shift(365)) # sales for that 1 year  ago\n",
    "\n",
    "df[\"item-week_shifted-90\"] = df.groupby(['week_of_year',\"item\"])[\"sales\"].transform(lambda x:x.shift(12).sum()) # shifted total sales for that item 12 weeks (3 months) ago\n",
    "df[\"store-week_shifted-90\"] = df.groupby(['week_of_year',\"store\"])[\"sales\"].transform(lambda x:x.shift(12).sum()) # shifted total sales for that store 12 weeks (3 months) ago\n",
    "df[\"item-week_shifted-90\"] = df.groupby(['week_of_year',\"item\"])[\"sales\"].transform(lambda x:x.shift(12).mean()) # shifted mean sales for that item 12 weeks (3 months) ago\n",
    "df[\"store-week_shifted-90\"] = df.groupby(['week_of_year',\"store\"])[\"sales\"].transform(lambda x:x.shift(12).mean()) # shifted mean sales for that store 12 weeks (3 months) ago"
   ]
  },
  {
   "cell_type": "code",
   "execution_count": 8,
   "metadata": {},
   "outputs": [],
   "source": [
    "col = [i for i in df.columns if i not in ['date', 'id']] # get columns that we need \n",
    "y = 'sales'"
   ]
  },
  {
   "cell_type": "code",
   "execution_count": 9,
   "metadata": {},
   "outputs": [],
   "source": [
    "train = df.loc[~df.sales.isna()] # if sales is not null we get train set with sales\n",
    "test = df.loc[df.sales.isna()] # if sales is null we get test set without sales \n",
    "test.drop('sales', axis=1, inplace=True) # get rid of sales\n",
    "train.drop('id', axis=1, inplace=True) # get rid of id\n",
    "train['store_item_shifted-90'] = train['store_item_shifted-90'].fillna(train['store_item_shifted-90'].mean()) # get rid of NaN values\n",
    "train['store_item_shifted-180'] = train['store_item_shifted-180'].fillna(train['store_item_shifted-180'].mean()) # get rid of NaN values\n",
    "train['store_item_shifted-365'] = train['store_item_shifted-365'].fillna(train['store_item_shifted-365'].mean()) # get rid of NaN values"
   ]
  },
  {
   "cell_type": "code",
   "execution_count": 10,
   "metadata": {},
   "outputs": [],
   "source": [
    "x_train, x_test, y_train, y_test = train_test_split(train[col], train[y], test_size=0.2) # split into train and test"
   ]
  },
  {
   "cell_type": "code",
   "execution_count": 11,
   "metadata": {},
   "outputs": [
    {
     "data": {
      "text/plain": [
       "1.0"
      ]
     },
     "execution_count": 11,
     "metadata": {},
     "output_type": "execute_result"
    }
   ],
   "source": [
    "reg = LinearRegression() # get model\n",
    "reg.fit(x_train, y_train) # train model with splitted data\n",
    "reg.score(x_test, y_test) # get accuracy of model"
   ]
  },
  {
   "cell_type": "code",
   "execution_count": 12,
   "metadata": {},
   "outputs": [],
   "source": [
    "test.reset_index(drop=True, inplace=True) # get rid of index\n",
    "ind = test.id # get id\n",
    "test.drop('id', axis=1, inplace=True) # get rid of id"
   ]
  },
  {
   "cell_type": "code",
   "execution_count": 13,
   "metadata": {},
   "outputs": [
    {
     "data": {
      "text/plain": [
       "LinearRegression(copy_X=True, fit_intercept=True, n_jobs=1, normalize=False)"
      ]
     },
     "execution_count": 13,
     "metadata": {},
     "output_type": "execute_result"
    }
   ],
   "source": [
    "reg.fit(train.drop('sales', axis=1), train.sales) #train pur model with full train set"
   ]
  },
  {
   "cell_type": "code",
   "execution_count": 14,
   "metadata": {},
   "outputs": [],
   "source": [
    "predict = reg.predict(test) # predict values\n",
    "preid = list(zip(ind, predict)) # merge id and values"
   ]
  },
  {
   "cell_type": "code",
   "execution_count": 15,
   "metadata": {},
   "outputs": [],
   "source": [
    "subm = pd.DataFrame(preid, columns = ['id', 'sales']) #convert list of tuples to df\n",
    "subm.id = subm.id.astype(int) # convert float column into int\n",
    "subm.sales = subm.sales.round().astype(int) # round all values in column and convert to int\n",
    "subm.to_csv('submission.csv') # convert df to csv"
   ]
  }
 ],
 "metadata": {
  "kernelspec": {
   "display_name": "Python 3",
   "language": "python",
   "name": "python3"
  },
  "language_info": {
   "codemirror_mode": {
    "name": "ipython",
    "version": 3
   },
   "file_extension": ".py",
   "mimetype": "text/x-python",
   "name": "python",
   "nbconvert_exporter": "python",
   "pygments_lexer": "ipython3",
   "version": "3.6.5"
  }
 },
 "nbformat": 4,
 "nbformat_minor": 2
}
